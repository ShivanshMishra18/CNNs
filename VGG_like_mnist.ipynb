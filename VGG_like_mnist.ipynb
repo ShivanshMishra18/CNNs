{
  "nbformat": 4,
  "nbformat_minor": 0,
  "metadata": {
    "colab": {
      "name": "VGG_like_mnist.ipynb",
      "version": "0.3.2",
      "provenance": [],
      "collapsed_sections": [],
      "include_colab_link": true
    },
    "kernelspec": {
      "name": "python3",
      "display_name": "Python 3"
    },
    "accelerator": "GPU"
  },
  "cells": [
    {
      "cell_type": "markdown",
      "metadata": {
        "id": "view-in-github",
        "colab_type": "text"
      },
      "source": [
        "<a href=\"https://colab.research.google.com/github/ShivanshMishra18/CNNs/blob/master/VGG_like_mnist.ipynb\" target=\"_parent\"><img src=\"https://colab.research.google.com/assets/colab-badge.svg\" alt=\"Open In Colab\"/></a>"
      ]
    },
    {
      "cell_type": "code",
      "metadata": {
        "id": "wKzBNp1av5FB",
        "colab_type": "code",
        "outputId": "7fb587b7-bf1f-4733-bf36-4f7bff950649",
        "colab": {
          "base_uri": "https://localhost:8080/",
          "height": 34
        }
      },
      "source": [
        "import keras\n",
        "from keras.datasets import mnist\n",
        "from keras.models import Model\n",
        "from keras.layers import Conv2D, MaxPooling2D, Dense, Dropout, Flatten\n",
        "from keras.layers import Add, Input, Activation, ZeroPadding2D, BatchNormalization\n",
        "from keras import backend as K\n",
        "K.set_image_data_format('channels_last')"
      ],
      "execution_count": 0,
      "outputs": [
        {
          "output_type": "stream",
          "text": [
            "Using TensorFlow backend.\n"
          ],
          "name": "stderr"
        }
      ]
    },
    {
      "cell_type": "code",
      "metadata": {
        "id": "pIL6neUN7Akp",
        "colab_type": "code",
        "colab": {}
      },
      "source": [
        "batch_size = 128\n",
        "num_classes = 10\n",
        "epochs = 5\n",
        "\n",
        "# input image dimensions\n",
        "img_rows, img_cols = 28, 28"
      ],
      "execution_count": 0,
      "outputs": []
    },
    {
      "cell_type": "code",
      "metadata": {
        "id": "yFencBEDw-bY",
        "colab_type": "code",
        "outputId": "f46d99a7-bbd1-4a4b-e57d-cc9ad911e03e",
        "colab": {
          "base_uri": "https://localhost:8080/",
          "height": 85
        }
      },
      "source": [
        "# the data, split between train and test sets\n",
        "(x_train, y_train), (x_test, y_test) = mnist.load_data()\n",
        "\n",
        "\n",
        "# initial shape is (m,28,28) but for a good architecture it should include number of channels\n",
        "x_train = x_train.reshape(x_train.shape[0], x_train.shape[1], x_train.shape[2], 1)\n",
        "x_test = x_test.reshape(x_test.shape[0], x_test.shape[1], x_test.shape[2], 1)\n",
        "print ('x_train.shape = ' + str(x_train.shape))\n",
        "print ('y_train.shape = ' + str(y_train.shape))\n",
        "\n",
        "\n",
        "# normalizing\n",
        "x_train = x_train.astype('float32')\n",
        "x_test = x_test.astype('float32')\n",
        "x_train /= 255\n",
        "x_test /= 255\n",
        "\n",
        "\n",
        "# convert class vectors to binary class matrices\n",
        "y_train = keras.utils.to_categorical(y_train, num_classes)\n",
        "y_test = keras.utils.to_categorical(y_test, num_classes)\n",
        "print ('y_train.shape = ' + str(y_train.shape))\n",
        "print ('y_test.shape = ' + str(y_test.shape))"
      ],
      "execution_count": 0,
      "outputs": [
        {
          "output_type": "stream",
          "text": [
            "x_train.shape = (60000, 28, 28, 1)\n",
            "y_train.shape = (60000,)\n",
            "y_train.shape = (60000, 10)\n",
            "y_test.shape = (10000, 10)\n"
          ],
          "name": "stdout"
        }
      ]
    },
    {
      "cell_type": "code",
      "metadata": {
        "id": "QuydDSUz5NfL",
        "colab_type": "code",
        "colab": {}
      },
      "source": [
        "def VGG_Model(input_shape = (28,28,1), num_classes=10):\n",
        "  '''\n",
        "  https://www.kaggle.com/nvsabhilash/keras-vgg-like-architecture-on-mnist-0-98471\n",
        "  Architecture adopted from above link.\n",
        "  '''\n",
        "  \n",
        "  X_input = Input(input_shape)\n",
        "\n",
        "  X = Conv2D(32, (3,3), input_shape = input_shape, padding='same', activation='relu', name='Conv-1')(X_input)\n",
        "  X = MaxPooling2D(name='MaxPool-1')(X)\n",
        "  X = Conv2D(64, (3,3), padding='same', activation='relu', name='Conv-2')(X)\n",
        "  X = MaxPooling2D(name='MaxPool-2')(X)\n",
        "  X = Flatten(name='Flatten')(X)\n",
        "  X = Dense(128, name='Dense-1', activation='relu')(X)\n",
        "  X = Dense(num_classes, name='Dense-2', activation='softmax')(X)\n",
        "  \n",
        "  model = Model(inputs=X_input, outputs=X, name='VGG_Model')\n",
        "  \n",
        "  return model"
      ],
      "execution_count": 0,
      "outputs": []
    },
    {
      "cell_type": "code",
      "metadata": {
        "id": "s6fzaPlJDAA_",
        "colab_type": "code",
        "outputId": "418079cc-7edf-4260-cb5e-2315daf65283",
        "colab": {
          "base_uri": "https://localhost:8080/",
          "height": 190
        }
      },
      "source": [
        "model = VGG_Model()"
      ],
      "execution_count": 0,
      "outputs": [
        {
          "output_type": "stream",
          "text": [
            "WARNING: Logging before flag parsing goes to stderr.\n",
            "W0711 17:35:11.754844 140581512791936 deprecation_wrapper.py:119] From /usr/local/lib/python3.6/dist-packages/keras/backend/tensorflow_backend.py:74: The name tf.get_default_graph is deprecated. Please use tf.compat.v1.get_default_graph instead.\n",
            "\n",
            "W0711 17:35:11.776011 140581512791936 deprecation_wrapper.py:119] From /usr/local/lib/python3.6/dist-packages/keras/backend/tensorflow_backend.py:517: The name tf.placeholder is deprecated. Please use tf.compat.v1.placeholder instead.\n",
            "\n",
            "W0711 17:35:11.779587 140581512791936 deprecation_wrapper.py:119] From /usr/local/lib/python3.6/dist-packages/keras/backend/tensorflow_backend.py:4138: The name tf.random_uniform is deprecated. Please use tf.random.uniform instead.\n",
            "\n",
            "W0711 17:35:11.800746 140581512791936 deprecation_wrapper.py:119] From /usr/local/lib/python3.6/dist-packages/keras/backend/tensorflow_backend.py:3976: The name tf.nn.max_pool is deprecated. Please use tf.nn.max_pool2d instead.\n",
            "\n"
          ],
          "name": "stderr"
        }
      ]
    },
    {
      "cell_type": "code",
      "metadata": {
        "id": "2O5OH8TvDDSC",
        "colab_type": "code",
        "outputId": "98eb3541-b249-4c02-ad9e-8ce79ff3791a",
        "colab": {
          "base_uri": "https://localhost:8080/",
          "height": 105
        }
      },
      "source": [
        "model.compile(loss = keras.losses.categorical_crossentropy,\n",
        "             optimizer = keras.optimizers.adam(),\n",
        "             metrics = ['accuracy'])"
      ],
      "execution_count": 0,
      "outputs": [
        {
          "output_type": "stream",
          "text": [
            "W0711 17:35:11.895030 140581512791936 deprecation_wrapper.py:119] From /usr/local/lib/python3.6/dist-packages/keras/optimizers.py:790: The name tf.train.Optimizer is deprecated. Please use tf.compat.v1.train.Optimizer instead.\n",
            "\n",
            "W0711 17:35:11.906754 140581512791936 deprecation_wrapper.py:119] From /usr/local/lib/python3.6/dist-packages/keras/backend/tensorflow_backend.py:3295: The name tf.log is deprecated. Please use tf.math.log instead.\n",
            "\n"
          ],
          "name": "stderr"
        }
      ]
    },
    {
      "cell_type": "code",
      "metadata": {
        "id": "AX1NRP6UDwIF",
        "colab_type": "code",
        "outputId": "d68662c0-67b8-4376-90ce-4394bcf0edab",
        "colab": {
          "base_uri": "https://localhost:8080/",
          "height": 309
        }
      },
      "source": [
        "model.fit(x_train, y_train, batch_size, epochs)"
      ],
      "execution_count": 0,
      "outputs": [
        {
          "output_type": "stream",
          "text": [
            "W0711 17:35:12.042857 140581512791936 deprecation.py:323] From /usr/local/lib/python3.6/dist-packages/tensorflow/python/ops/math_grad.py:1250: add_dispatch_support.<locals>.wrapper (from tensorflow.python.ops.array_ops) is deprecated and will be removed in a future version.\n",
            "Instructions for updating:\n",
            "Use tf.where in 2.0, which has the same broadcast rule as np.where\n",
            "W0711 17:35:12.124095 140581512791936 deprecation_wrapper.py:119] From /usr/local/lib/python3.6/dist-packages/keras/backend/tensorflow_backend.py:986: The name tf.assign_add is deprecated. Please use tf.compat.v1.assign_add instead.\n",
            "\n"
          ],
          "name": "stderr"
        },
        {
          "output_type": "stream",
          "text": [
            "Epoch 1/5\n",
            "60000/60000 [==============================] - 8s 128us/step - loss: 0.1962 - acc: 0.9411\n",
            "Epoch 2/5\n",
            "60000/60000 [==============================] - 6s 92us/step - loss: 0.0520 - acc: 0.9838\n",
            "Epoch 3/5\n",
            "60000/60000 [==============================] - 5s 89us/step - loss: 0.0363 - acc: 0.9884\n",
            "Epoch 4/5\n",
            "60000/60000 [==============================] - 5s 89us/step - loss: 0.0267 - acc: 0.9914\n",
            "Epoch 5/5\n",
            "60000/60000 [==============================] - 5s 88us/step - loss: 0.0197 - acc: 0.9939\n"
          ],
          "name": "stdout"
        },
        {
          "output_type": "execute_result",
          "data": {
            "text/plain": [
              "<keras.callbacks.History at 0x7fdb65c1b240>"
            ]
          },
          "metadata": {
            "tags": []
          },
          "execution_count": 7
        }
      ]
    },
    {
      "cell_type": "code",
      "metadata": {
        "id": "_z5dxbVeEZPU",
        "colab_type": "code",
        "outputId": "752e0714-0154-4928-e0d1-0ab0470d8321",
        "colab": {
          "base_uri": "https://localhost:8080/",
          "height": 51
        }
      },
      "source": [
        "score = model.evaluate(x_test, y_test)\n",
        "print ('test accuray = ' + str(score[1]))"
      ],
      "execution_count": 0,
      "outputs": [
        {
          "output_type": "stream",
          "text": [
            "10000/10000 [==============================] - 1s 83us/step\n",
            "test accuray = 0.9882\n"
          ],
          "name": "stdout"
        }
      ]
    },
    {
      "cell_type": "code",
      "metadata": {
        "id": "HZqO7p8kE99o",
        "colab_type": "code",
        "colab": {}
      },
      "source": [
        ""
      ],
      "execution_count": 0,
      "outputs": []
    }
  ]
}